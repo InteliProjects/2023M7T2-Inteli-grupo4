{
 "cells": [
  {
   "cell_type": "code",
   "execution_count": 1,
   "id": "e4cba79a-b08f-4448-812f-ed838c52dd5e",
   "metadata": {},
   "outputs": [
    {
     "name": "stderr",
     "output_type": "stream",
     "text": [
      "C:\\Users\\Inteli\\AppData\\Local\\Temp\\ipykernel_13156\\3946784025.py:35: GradioDeprecationWarning: Usage of gradio.inputs is deprecated, and will not be supported in the future, please import your component from gradio.components\n",
      "  gr.inputs.File(label=\"Upload a Parquet file (.parquet)\"),\n",
      "C:\\Users\\Inteli\\AppData\\Local\\Temp\\ipykernel_13156\\3946784025.py:35: GradioDeprecationWarning: `optional` parameter is deprecated, and it has no effect\n",
      "  gr.inputs.File(label=\"Upload a Parquet file (.parquet)\"),\n",
      "C:\\Users\\Inteli\\AppData\\Local\\Temp\\ipykernel_13156\\3946784025.py:35: GradioDeprecationWarning: `keep_filename` parameter is deprecated, and it has no effect\n",
      "  gr.inputs.File(label=\"Upload a Parquet file (.parquet)\"),\n",
      "C:\\Users\\Inteli\\AppData\\Local\\Temp\\ipykernel_13156\\3946784025.py:38: GradioDeprecationWarning: Usage of gradio.outputs is deprecated, and will not be supported in the future, please import your components from gradio.components\n",
      "  gr.outputs.Image(label=\"Random Bar Chart\"),\n"
     ]
    },
    {
     "ename": "ValueError",
     "evalue": "Invalid value for parameter `type`: auto. Please choose from one of: ['numpy', 'pil', 'filepath']",
     "output_type": "error",
     "traceback": [
      "\u001b[1;31m---------------------------------------------------------------------------\u001b[0m",
      "\u001b[1;31mValueError\u001b[0m                                Traceback (most recent call last)",
      "Cell \u001b[1;32mIn[1], line 38\u001b[0m\n\u001b[0;32m     29\u001b[0m     \u001b[38;5;28;01mreturn\u001b[39;00m \u001b[38;5;124m'\u001b[39m\u001b[38;5;124mbar_chart.png\u001b[39m\u001b[38;5;124m'\u001b[39m\n\u001b[0;32m     31\u001b[0m \u001b[38;5;66;03m# Define Gradio interfaces for file upload and plotting\u001b[39;00m\n\u001b[0;32m     32\u001b[0m iface \u001b[38;5;241m=\u001b[39m gr\u001b[38;5;241m.\u001b[39mInterface(\n\u001b[0;32m     33\u001b[0m     fn_pair\u001b[38;5;241m=\u001b[39m[load_parquet, plot_bar_chart],\n\u001b[0;32m     34\u001b[0m     inputs\u001b[38;5;241m=\u001b[39m[\n\u001b[0;32m     35\u001b[0m         gr\u001b[38;5;241m.\u001b[39minputs\u001b[38;5;241m.\u001b[39mFile(label\u001b[38;5;241m=\u001b[39m\u001b[38;5;124m\"\u001b[39m\u001b[38;5;124mUpload a Parquet file (.parquet)\u001b[39m\u001b[38;5;124m\"\u001b[39m),\n\u001b[0;32m     36\u001b[0m     ],\n\u001b[0;32m     37\u001b[0m     outputs\u001b[38;5;241m=\u001b[39m[\n\u001b[1;32m---> 38\u001b[0m         \u001b[43mgr\u001b[49m\u001b[38;5;241;43m.\u001b[39;49m\u001b[43moutputs\u001b[49m\u001b[38;5;241;43m.\u001b[39;49m\u001b[43mImage\u001b[49m\u001b[43m(\u001b[49m\u001b[43mlabel\u001b[49m\u001b[38;5;241;43m=\u001b[39;49m\u001b[38;5;124;43m\"\u001b[39;49m\u001b[38;5;124;43mRandom Bar Chart\u001b[39;49m\u001b[38;5;124;43m\"\u001b[39;49m\u001b[43m)\u001b[49m,\n\u001b[0;32m     39\u001b[0m     ],\n\u001b[0;32m     40\u001b[0m     live\u001b[38;5;241m=\u001b[39m\u001b[38;5;28;01mFalse\u001b[39;00m  \u001b[38;5;66;03m# Set to True for live updates while modifying code\u001b[39;00m\n\u001b[0;32m     41\u001b[0m )\n\u001b[0;32m     43\u001b[0m \u001b[38;5;66;03m# Start the Gradio app\u001b[39;00m\n\u001b[0;32m     44\u001b[0m iface\u001b[38;5;241m.\u001b[39mlaunch()\n",
      "File \u001b[1;32m~\\AppData\\Local\\Programs\\Python\\Python311\\Lib\\site-packages\\gradio\\outputs.py:51\u001b[0m, in \u001b[0;36mImage.__init__\u001b[1;34m(self, type, plot, label)\u001b[0m\n\u001b[0;32m     49\u001b[0m \u001b[38;5;28;01mif\u001b[39;00m plot:\n\u001b[0;32m     50\u001b[0m     \u001b[38;5;28mtype\u001b[39m \u001b[38;5;241m=\u001b[39m \u001b[38;5;124m\"\u001b[39m\u001b[38;5;124mplot\u001b[39m\u001b[38;5;124m\"\u001b[39m\n\u001b[1;32m---> 51\u001b[0m \u001b[38;5;28;43msuper\u001b[39;49m\u001b[43m(\u001b[49m\u001b[43m)\u001b[49m\u001b[38;5;241;43m.\u001b[39;49m\u001b[38;5;21;43m__init__\u001b[39;49m\u001b[43m(\u001b[49m\u001b[38;5;28;43mtype\u001b[39;49m\u001b[38;5;241;43m=\u001b[39;49m\u001b[38;5;28;43mtype\u001b[39;49m\u001b[43m,\u001b[49m\u001b[43m \u001b[49m\u001b[43mlabel\u001b[49m\u001b[38;5;241;43m=\u001b[39;49m\u001b[43mlabel\u001b[49m\u001b[43m)\u001b[49m\n",
      "File \u001b[1;32m~\\AppData\\Local\\Programs\\Python\\Python311\\Lib\\site-packages\\gradio\\components\\image.py:124\u001b[0m, in \u001b[0;36mImage.__init__\u001b[1;34m(self, value, shape, height, width, image_mode, invert_colors, source, tool, type, label, every, show_label, show_download_button, container, scale, min_width, interactive, visible, streaming, elem_id, elem_classes, mirror_webcam, brush_radius, brush_color, mask_opacity, show_share_button, **kwargs)\u001b[0m\n\u001b[0;32m    122\u001b[0m valid_types \u001b[38;5;241m=\u001b[39m [\u001b[38;5;124m\"\u001b[39m\u001b[38;5;124mnumpy\u001b[39m\u001b[38;5;124m\"\u001b[39m, \u001b[38;5;124m\"\u001b[39m\u001b[38;5;124mpil\u001b[39m\u001b[38;5;124m\"\u001b[39m, \u001b[38;5;124m\"\u001b[39m\u001b[38;5;124mfilepath\u001b[39m\u001b[38;5;124m\"\u001b[39m]\n\u001b[0;32m    123\u001b[0m \u001b[38;5;28;01mif\u001b[39;00m \u001b[38;5;28mtype\u001b[39m \u001b[38;5;129;01mnot\u001b[39;00m \u001b[38;5;129;01min\u001b[39;00m valid_types:\n\u001b[1;32m--> 124\u001b[0m     \u001b[38;5;28;01mraise\u001b[39;00m \u001b[38;5;167;01mValueError\u001b[39;00m(\n\u001b[0;32m    125\u001b[0m         \u001b[38;5;124mf\u001b[39m\u001b[38;5;124m\"\u001b[39m\u001b[38;5;124mInvalid value for parameter `type`: \u001b[39m\u001b[38;5;132;01m{\u001b[39;00m\u001b[38;5;28mtype\u001b[39m\u001b[38;5;132;01m}\u001b[39;00m\u001b[38;5;124m. Please choose from one of: \u001b[39m\u001b[38;5;132;01m{\u001b[39;00mvalid_types\u001b[38;5;132;01m}\u001b[39;00m\u001b[38;5;124m\"\u001b[39m\n\u001b[0;32m    126\u001b[0m     )\n\u001b[0;32m    127\u001b[0m \u001b[38;5;28mself\u001b[39m\u001b[38;5;241m.\u001b[39mtype \u001b[38;5;241m=\u001b[39m \u001b[38;5;28mtype\u001b[39m\n\u001b[0;32m    128\u001b[0m \u001b[38;5;28mself\u001b[39m\u001b[38;5;241m.\u001b[39mshape \u001b[38;5;241m=\u001b[39m shape\n",
      "\u001b[1;31mValueError\u001b[0m: Invalid value for parameter `type`: auto. Please choose from one of: ['numpy', 'pil', 'filepath']"
     ]
    }
   ],
   "source": [
    "import gradio as gr\n",
    "import pandas as pd\n",
    "import numpy as np\n",
    "import matplotlib.pyplot as plt\n",
    "\n",
    "# Define a function to load Parquet file into a DataFrame\n",
    "def load_parquet(file):\n",
    "    try:\n",
    "        df = pd.read_parquet(file)\n",
    "        return df\n",
    "    except Exception as e:\n",
    "        return str(e)\n",
    "\n",
    "# Define a function to plot a bar chart with random data\n",
    "def plot_bar_chart(df):\n",
    "    # Generate 5 random numbers for the bar chart\n",
    "    random_data = np.random.randint(1, 100, 5)\n",
    "    \n",
    "    # Create the bar chart\n",
    "    plt.bar(range(1, 6), random_data)\n",
    "    plt.xlabel('Category')\n",
    "    plt.ylabel('Value')\n",
    "    plt.title('Random Bar Chart')\n",
    "    \n",
    "    # Save the plot as an image\n",
    "    plt.savefig('bar_chart.png')\n",
    "    \n",
    "    # Return the plot image\n",
    "    return 'bar_chart.png'\n",
    "\n",
    "# Define Gradio interfaces for file upload and plotting\n",
    "iface = gr.Interface(\n",
    "    fn_pair=[load_parquet, plot_bar_chart],\n",
    "    inputs=[\n",
    "        gr.inputs.File(label=\"Upload a Parquet file (.parquet)\"),\n",
    "    ],\n",
    "    outputs=[\n",
    "        gr.outputs.Image(label=\"Random Bar Chart\"),\n",
    "    ],\n",
    "    live=False  # Set to True for live updates while modifying code\n",
    ")\n",
    "\n",
    "# Start the Gradio app\n",
    "iface.launch()\n"
   ]
  },
  {
   "cell_type": "code",
   "execution_count": null,
   "id": "7ecea693-0f73-4bd2-ace4-c7f45ba1a94f",
   "metadata": {},
   "outputs": [],
   "source": []
  }
 ],
 "metadata": {
  "kernelspec": {
   "display_name": "Python 3 (ipykernel)",
   "language": "python",
   "name": "python3"
  },
  "language_info": {
   "codemirror_mode": {
    "name": "ipython",
    "version": 3
   },
   "file_extension": ".py",
   "mimetype": "text/x-python",
   "name": "python",
   "nbconvert_exporter": "python",
   "pygments_lexer": "ipython3",
   "version": "3.11.4"
  }
 },
 "nbformat": 4,
 "nbformat_minor": 5
}
