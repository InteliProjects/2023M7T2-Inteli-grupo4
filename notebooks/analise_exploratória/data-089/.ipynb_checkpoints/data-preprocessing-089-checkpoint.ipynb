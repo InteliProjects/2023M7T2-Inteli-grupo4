{
 "cells": [
  {
   "cell_type": "code",
   "execution_count": 1,
   "id": "53304483-e275-45e8-9425-8ea5ace5882b",
   "metadata": {},
   "outputs": [],
   "source": [
    "import os\n",
    "import pandas as pd\n",
    "import numpy as np\n",
    "import matplotlib.pyplot as plt\n",
    "import seaborn as sn"
   ]
  },
  {
   "cell_type": "code",
   "execution_count": 2,
   "id": "43c5201d-3522-4724-80ce-58e262b7f1f1",
   "metadata": {},
   "outputs": [],
   "source": [
    "filtered_columns = ['recording_time', 'dateDay-1', 'dateMonth-1', 'dateYear-1', 'phaseOfFlight-1',\n",
    "                 'message0418DAA-1','message0422DAA-1','amscHprsovDrivF-1a', 'amscHprsovDrivF-1b',\n",
    "                 'amscHprsovDrivF-2b', 'amscPrsovDrivF-1a',\n",
    "                 'amscPrsovDrivF-1b', 'amscPrsovDrivF-2b',\n",
    "                 'basBleedLowPressF-1a', 'basBleedLowPressF-2b',\n",
    "                 'basBleedLowTempF-1a', 'basBleedLowTempF-2b',\n",
    "                 'basBleedOverPressF-1a', 'basBleedOverPressF-2b',\n",
    "                 'basBleedOverTempF-1a', 'basBleedOverTempF-2b',\n",
    "                 'bleedFavTmCmd-1a', 'bleedFavTmCmd-1b',\n",
    "                 'bleedFavTmCmd-2a', 'bleedFavTmCmd-2b', 'bleedFavTmFbk-1a',\n",
    "                 'bleedFavTmFbk-1b', 'bleedFavTmFbk-2b', 'bleedHprsovCmdStatus-1a',\n",
    "                 'bleedHprsovCmdStatus-1b', 'bleedHprsovCmdStatus-2a',\n",
    "                 'bleedHprsovCmdStatus-2b', 'bleedHprsovOpPosStatus-1a',\n",
    "                 'bleedHprsovOpPosStatus-1b', 'bleedHprsovOpPosStatus-2a',\n",
    "                 'bleedHprsovOpPosStatus-2b', 'bleedMonPress-1a',\n",
    "                 'bleedMonPress-1b', 'bleedMonPress-2a', 'bleedMonPress-2b',\n",
    "                 'bleedOnStatus-1a', 'bleedOnStatus-1b', 'bleedOnStatus-2b',\n",
    "                 'bleedOverpressCas-2a', 'bleedOverpressCas-2b',\n",
    "                 'bleedPrecoolDiffPress-1a', 'bleedPrecoolDiffPress-1b',\n",
    "                 'bleedPrecoolDiffPress-2a', 'bleedPrecoolDiffPress-2b',\n",
    "                 'bleedPrsovClPosStatus-1a', 'bleedPrsovClPosStatus-2a',\n",
    "                 'bleedPrsovFbk-1a']"
   ]
  },
  {
   "cell_type": "code",
   "execution_count": 3,
   "id": "51452621-4b01-4555-aa91-602b4399b0e4",
   "metadata": {},
   "outputs": [],
   "source": [
    "def convert_columns(df_filtered):\n",
    "    for coluna in df_filtered.columns:\n",
    "        if df_filtered[coluna].dtype == 'float64':\n",
    "            df_filtered[coluna] = df_filtered[coluna].astype('float32')\n",
    "\n",
    "        if df_filtered[coluna].dtype == 'int64':\n",
    "            df_filtered[coluna] = df_filtered[coluna].astype('int32')\n",
    "\n",
    "    return df_filtered"
   ]
  },
  {
   "cell_type": "code",
   "execution_count": 4,
   "id": "213094a8-0b90-4b4d-ae85-8d721c748329",
   "metadata": {},
   "outputs": [
    {
     "name": "stdout",
     "output_type": "stream",
     "text": [
      "Arquivos com variação nas colunas: ['TCRF_ARCHIVE_06120089_20221212212511.parquet', 'TCRF_ARCHIVE_06120089_20221212212512.parquet']\n"
     ]
    }
   ],
   "source": [
    "folder_path = \"airplane_data_089\"\n",
    "\n",
    "columns_to_check = ['message0418DAA-1', 'message0422DAA-1']\n",
    "\n",
    "files_with_variation = []\n",
    "\n",
    "parquet_files = [file for file in os.listdir(folder_path) if file.endswith('.parquet')]\n",
    "\n",
    "for file in parquet_files:\n",
    "    file_path = os.path.join(folder_path, file)\n",
    "    df = pd.read_parquet(file_path)\n",
    "    \n",
    "    variation_detected = any(df[column].nunique() > 1 for column in columns_to_check if not df[column].isin([0, np.nan]).all())\n",
    "    \n",
    "    if variation_detected:\n",
    "        files_with_variation.append(file)\n",
    "\n",
    "print(\"Arquivos com variação nas colunas:\", files_with_variation)"
   ]
  }
 ],
 "metadata": {
  "kernelspec": {
   "display_name": "Python 3 (ipykernel)",
   "language": "python",
   "name": "python3"
  },
  "language_info": {
   "codemirror_mode": {
    "name": "ipython",
    "version": 3
   },
   "file_extension": ".py",
   "mimetype": "text/x-python",
   "name": "python",
   "nbconvert_exporter": "python",
   "pygments_lexer": "ipython3",
   "version": "3.10.11"
  }
 },
 "nbformat": 4,
 "nbformat_minor": 5
}
