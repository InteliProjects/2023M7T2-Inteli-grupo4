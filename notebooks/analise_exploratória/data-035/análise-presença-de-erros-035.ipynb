{
 "cells": [
  {
   "cell_type": "markdown",
   "metadata": {},
   "source": [
    "<h1 style=\"text-align:center\"> Feature engineering dos dados das aeronaves para a geração do vetor de características e treinamento do modelo</h1>"
   ]
  },
  {
   "cell_type": "markdown",
   "metadata": {},
   "source": [
    "Considerando o contexto da criação de um modelo preditivo para a estimação de falhas em aeronaves, apresenta-se este notebook que evidencia a prototipação de uma pipeline de extração, transformação e carregamento de séries temporais de senores de motores de uma areonave em uma aplicação de auto-ml (Pycaret) com o objetivo de criar técnicas e funções que serão utilizadas para o recorte, pré-processamento e extração de características no pipeline de produção."
   ]
  },
  {
   "cell_type": "markdown",
   "metadata": {},
   "source": [
    "## 1. Análise da presença de erros em parquets"
   ]
  },
  {
   "cell_type": "code",
   "execution_count": 1,
   "metadata": {},
   "outputs": [],
   "source": [
    "import os\n",
    "import pandas as pd"
   ]
  },
  {
   "cell_type": "code",
   "execution_count": 8,
   "metadata": {},
   "outputs": [],
   "source": [
    "# Replace 'folder_path' with the path to your folder containing Parquet files\n",
    "folder_path = '06120035'"
   ]
  },
  {
   "cell_type": "code",
   "execution_count": 9,
   "metadata": {},
   "outputs": [],
   "source": [
    "erros_df = []\n",
    "not_errors_df = []\n",
    "\n",
    "failure_column_1 = \"message0418DAA-1\"\n",
    "failure_column_2 = \"message0422DAA-1\"\n",
    "\n",
    "def detect_failure(dict_counts, failure_code):\n",
    "    try:\n",
    "        if dict_counts[failure_code] > 0:\n",
    "            print(\"Falha encontrada\")\n",
    "            return True\n",
    "    except:\n",
    "            return False\n",
    "\n",
    "# Loop through files in the folder\n",
    "for filename in os.listdir(folder_path):\n",
    "    if filename.endswith(\".parquet\"):\n",
    "        file_path = os.path.join(folder_path, filename)\n",
    "\n",
    "        #print(\"\\nReading \", filename)\n",
    "        \n",
    "        # Read the Parquet file into a DataFrame\n",
    "        df_flight_data = pd.read_parquet(file_path)\n",
    "\n",
    "        value_counts_failure_1 = df_flight_data[failure_column_1].value_counts().to_dict()\n",
    "        value_counts_failure_2 = df_flight_data[failure_column_2].value_counts().to_dict()\n",
    "\n",
    "        #print(value_counts_failure_1)\n",
    "        #print(value_counts_failure_2)\n",
    "\n",
    "        if detect_failure(value_counts_failure_1, 4.0):\n",
    "            erros_df.append(filename)\n",
    "        elif detect_failure(value_counts_failure_1, 3.0):\n",
    "            erros_df.append(filename)\n",
    "        else:\n",
    "            not_errors_df.append(filename)"
   ]
  },
  {
   "cell_type": "markdown",
   "metadata": {},
   "source": [
    "### Verificação dos arquivos que apresentam erros de um determinado avião"
   ]
  },
  {
   "cell_type": "code",
   "execution_count": 14,
   "metadata": {},
   "outputs": [
    {
     "name": "stdout",
     "output_type": "stream",
     "text": [
      "Files containing erros are:  []\n"
     ]
    }
   ],
   "source": [
    "print(\"Files containing erros are: \", erros_df)"
   ]
  }
 ],
 "metadata": {
  "kernelspec": {
   "display_name": "Python 3 (ipykernel)",
   "language": "python",
   "name": "python3"
  },
  "language_info": {
   "codemirror_mode": {
    "name": "ipython",
    "version": 3
   },
   "file_extension": ".py",
   "mimetype": "text/x-python",
   "name": "python",
   "nbconvert_exporter": "python",
   "pygments_lexer": "ipython3",
   "version": "3.10.12"
  }
 },
 "nbformat": 4,
 "nbformat_minor": 4
}
