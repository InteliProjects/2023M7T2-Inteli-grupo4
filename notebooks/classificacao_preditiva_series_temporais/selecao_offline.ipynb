{
 "cells": [
  {
   "cell_type": "markdown",
   "id": "4f4488fd-dd95-43f5-b624-a2759f1a3659",
   "metadata": {},
   "source": [
    "<center> <h1> Script de busca por anterioridade e recorte de dados</h1> </center>"
   ]
  },
  {
   "cell_type": "code",
   "execution_count": 74,
   "id": "9f96c2d0-987f-422d-8036-0da9f7b4d029",
   "metadata": {},
   "outputs": [],
   "source": [
    "import os\n",
    "import pandas as pd"
   ]
  },
  {
   "cell_type": "code",
   "execution_count": null,
   "id": "a5667282-52c8-4fb5-9357-90033b38e0b4",
   "metadata": {},
   "outputs": [],
   "source": []
  },
  {
   "cell_type": "code",
   "execution_count": 75,
   "id": "1c4edf84-1286-4d6c-b609-cb57c164f96b",
   "metadata": {},
   "outputs": [],
   "source": [
    "data_path = \"./flight_data/06120091\"\n",
    "\n",
    "# List all Parquet files in the data_path directory\n",
    "parquet_files = [os.path.join(data_path, file) for file in os.listdir(data_path) if file.endswith('.parquet')]\n",
    "\n",
    "#print(parquet_files)"
   ]
  },
  {
   "cell_type": "code",
   "execution_count": null,
   "id": "192cc36d-1272-48b2-8e33-0298242e086c",
   "metadata": {},
   "outputs": [],
   "source": []
  },
  {
   "cell_type": "code",
   "execution_count": 76,
   "id": "e93d0b46-be48-4eaa-9430-0fc2dae282c7",
   "metadata": {},
   "outputs": [
    {
     "name": "stdout",
     "output_type": "stream",
     "text": [
      "Erro: 1.0/1.0/0.0\n",
      "Erro: 1.0/1.0/0.0\n",
      "Erro: 1.0/1.0/0.0\n"
     ]
    }
   ],
   "source": [
    "falha_index = []\n",
    "\n",
    "# Iterate through each Parquet file and load it into the DataFrame\n",
    "for parquet_file in parquet_files:\n",
    "    try:\n",
    "        df_read = pd.read_parquet(parquet_file, engine='auto')\n",
    "\n",
    "        if len(df_read['message0418DAA-1'].value_counts()) > 1 or len(df_read['message0422DAA-1'].value_counts()) > 1:\n",
    "                print(f'Erro: {df_read[\"dateDay-1\"][3]}/{df_read[\"dateMonth-1\"][3]}/{df_read[\"dateYear-1\"][3]}')\n",
    "                falha_index.append({\n",
    "                    \"path\":path_air_falha,\n",
    "                    \"mes\": int(df_read[\"dateMonth-1\"][3]),\n",
    "                    \"dia\": int(df_read[\"dateDay-1\"][3]),\n",
    "                    \"ano\": int(df_read[\"dateYear-1\"][3])\n",
    "                })\n",
    "            \n",
    "    except Exception as e:\n",
    "        print(f\"Error loading {parquet_file}: {e}\")\n",
    "\n",
    "# Now, the df DataFrame contains the data from all Parquet files in the data_path\n"
   ]
  },
  {
   "cell_type": "code",
   "execution_count": 77,
   "id": "f6d8edf8-a964-47e9-9308-108496a4c8cf",
   "metadata": {},
   "outputs": [
    {
     "name": "stdout",
     "output_type": "stream",
     "text": [
      "[{'path': 'TCRF_ARCHIVE_06120091_20230719175232.parquet', 'mes': 1, 'dia': 1, 'ano': 0}, {'path': 'TCRF_ARCHIVE_06120091_20230719175232.parquet', 'mes': 1, 'dia': 1, 'ano': 0}, {'path': 'TCRF_ARCHIVE_06120091_20230719175232.parquet', 'mes': 1, 'dia': 1, 'ano': 0}]\n"
     ]
    }
   ],
   "source": [
    "print(falha_index)"
   ]
  },
  {
   "cell_type": "code",
   "execution_count": null,
   "id": "b67361d3-39d2-4085-81ef-e80a0855005b",
   "metadata": {},
   "outputs": [],
   "source": []
  },
  {
   "cell_type": "code",
   "execution_count": null,
   "id": "200d85c0-268f-4fbb-8b53-07d1787405a8",
   "metadata": {},
   "outputs": [],
   "source": []
  },
  {
   "cell_type": "code",
   "execution_count": 11,
   "id": "2e2fa16b-c22b-403a-acd6-9e1ae920ce7f",
   "metadata": {},
   "outputs": [
    {
     "name": "stdout",
     "output_type": "stream",
     "text": [
      "Segundos por linha:  0.02 \n",
      "\n",
      "Quantidade de linhas para um segundo:  50.0 \n",
      "\n",
      "Quantidade de linhas para um minuto:  3000.0 \n",
      "\n",
      "Quantidade de linhas para uma hora:  180000.0 \n",
      "\n",
      "Quantidade de linhas para um dia:  4320000.0 \n",
      "\n",
      "Quantidade de linhas para uma semana:  30240000.0 \n",
      "\n"
     ]
    }
   ],
   "source": [
    "# A taxa de coleta de dados aponta para 20 ms por linha\n",
    "# Logo há 0,02 segundos por linha\n",
    "segundos_linha = 0.02\n",
    "print(\"Segundos por linha: \", segundos_linha, \"\\n\")\n",
    "\n",
    "linhas_segundo = 1/0.02\n",
    "print(\"Quantidade de linhas para um segundo: \", linhas_segundo, \"\\n\")\n",
    "\n",
    "linhas_minuto = linhas_segundo*60\n",
    "print(\"Quantidade de linhas para um minuto: \", linhas_minuto, \"\\n\")\n",
    "\n",
    "linhas_hora = linhas_minuto*60\n",
    "print(\"Quantidade de linhas para uma hora: \", linhas_hora, \"\\n\")\n",
    "\n",
    "linhas_dia = linhas_hora*24\n",
    "print(\"Quantidade de linhas para um dia: \", linhas_dia, \"\\n\")\n",
    "\n",
    "linhas_semana = linhas_dia*7\n",
    "print(\"Quantidade de linhas para uma semana: \", linhas_semana, \"\\n\")"
   ]
  },
  {
   "cell_type": "code",
   "execution_count": null,
   "id": "e0a401d3-ed34-496d-977c-06ebae240fd2",
   "metadata": {},
   "outputs": [],
   "source": []
  }
 ],
 "metadata": {
  "kernelspec": {
   "display_name": "Python 3 (ipykernel)",
   "language": "python",
   "name": "python3"
  },
  "language_info": {
   "codemirror_mode": {
    "name": "ipython",
    "version": 3
   },
   "file_extension": ".py",
   "mimetype": "text/x-python",
   "name": "python",
   "nbconvert_exporter": "python",
   "pygments_lexer": "ipython3",
   "version": "3.10.0"
  }
 },
 "nbformat": 4,
 "nbformat_minor": 5
}
